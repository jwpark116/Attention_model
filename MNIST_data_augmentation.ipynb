{
 "cells": [
  {
   "cell_type": "code",
   "execution_count": 1,
   "metadata": {},
   "outputs": [
    {
     "name": "stderr",
     "output_type": "stream",
     "text": [
      "/opt/anaconda/lib/python3.6/importlib/_bootstrap.py:219: RuntimeWarning: compiletime version 3.5 of module 'tensorflow.python.framework.fast_tensor_util' does not match runtime version 3.6\n",
      "  return f(*args, **kwds)\n"
     ]
    },
    {
     "name": "stdout",
     "output_type": "stream",
     "text": [
      "Extracting MNIST_data/train-images-idx3-ubyte.gz\n",
      "Extracting MNIST_data/train-labels-idx1-ubyte.gz\n",
      "Extracting MNIST_data/t10k-images-idx3-ubyte.gz\n",
      "Extracting MNIST_data/t10k-labels-idx1-ubyte.gz\n",
      "training feature\n",
      "(55000, 784)\n",
      "training label\n",
      "(55000, 10)\n"
     ]
    },
    {
     "data": {
      "text/plain": [
       "array([[ 0.,  0.,  0., ...,  0.,  0.,  0.],\n",
       "       [ 0.,  0.,  0., ...,  0.,  0.,  0.],\n",
       "       [ 0.,  0.,  0., ...,  0.,  0.,  0.],\n",
       "       ..., \n",
       "       [ 0.,  0.,  0., ...,  0.,  0.,  0.],\n",
       "       [ 0.,  0.,  0., ...,  0.,  0.,  0.],\n",
       "       [ 0.,  0.,  0., ...,  0.,  0.,  0.]], dtype=float32)"
      ]
     },
     "execution_count": 1,
     "metadata": {},
     "output_type": "execute_result"
    }
   ],
   "source": [
    "# Import data\n",
    "from tensorflow.examples.tutorials.mnist import input_data\n",
    "import matplotlib.pyplot as plt\n",
    "import time\n",
    "import tensorflow as tf\n",
    "import numpy as np\n",
    "import scipy.io\n",
    "import pickle\n",
    "mnist = input_data.read_data_sets(\"MNIST_data/\", one_hot=True)\n",
    "\n",
    "print('training feature\\n'+str(mnist.train.images.shape)+'\\ntraining label\\n'+str(mnist.train.labels.shape))\n",
    "X_train = mnist.train.images\n",
    "Y_train = mnist.train.labels\n",
    "X_test = mnist.test.images\n",
    "Y_test = mnist.test.labels\n",
    "\n",
    "X_train"
   ]
  },
  {
   "cell_type": "code",
   "execution_count": 2,
   "metadata": {},
   "outputs": [
    {
     "name": "stdout",
     "output_type": "stream",
     "text": [
      "(55000, 784) (55000, 10)\n",
      "(55000, 28, 28) (55000, 10)\n",
      "(10000, 28, 28) (10000, 10)\n"
     ]
    }
   ],
   "source": [
    "print(np.shape(X_train),np.shape(Y_train))\n",
    "X_train_re = np.reshape(X_train,[-1,28,28])\n",
    "X_test_re = np.reshape(X_test,[-1,28,28])\n",
    "print(np.shape(X_train_re),np.shape(Y_train))\n",
    "print(np.shape(X_test_re),np.shape(Y_test))"
   ]
  },
  {
   "cell_type": "code",
   "execution_count": 3,
   "metadata": {
    "scrolled": true
   },
   "outputs": [
    {
     "name": "stdout",
     "output_type": "stream",
     "text": [
      "(55000, 112, 112) (10000, 112, 112)\n"
     ]
    }
   ],
   "source": [
    "scale = 4\n",
    "X_train_temp = np.zeros([np.shape(X_train_re)[0], np.shape(X_train_re)[1]*scale , np.shape(X_train_re)[2]*scale], dtype=np.float32)\n",
    "X_test_temp = np.zeros([np.shape(X_test_re)[0], np.shape(X_test_re)[1]*scale , np.shape(X_test_re)[2]*scale], dtype=np.float32)\n",
    "\n",
    "for i in range(np.shape(X_train_re)[0]):\n",
    "    temp_idx_1=np.random.randint(0,(scale-1)*np.shape(X_train_re)[1])\n",
    "    temp_idx_2=np.random.randint(0,(scale-1)*np.shape(X_train_re)[2])    \n",
    "    X_train_temp[i, temp_idx_1:(temp_idx_1+np.shape(X_train_re)[1]), temp_idx_2:(temp_idx_2+np.shape(X_train_re)[2])] = X_train_re[i,:,:]\n",
    "        \n",
    "for i in range(np.shape(X_test_re)[0]):\n",
    "    temp_idx_1=np.random.randint(0,(scale-1)*np.shape(X_test_re)[1])\n",
    "    temp_idx_2=np.random.randint(0,(scale-1)*np.shape(X_test_re)[2])    \n",
    "    X_test_temp[i, temp_idx_1:(temp_idx_1+np.shape(X_test_re)[1]), temp_idx_2:(temp_idx_2+np.shape(X_test_re)[2])] = X_test_re[i,:,:]    \n",
    "\n",
    "print(np.shape(X_train_temp), np.shape(X_test_temp))"
   ]
  },
  {
   "cell_type": "code",
   "execution_count": 4,
   "metadata": {},
   "outputs": [
    {
     "data": {
      "image/png": "[encoded data removed]",
      "text/plain": [
       "<matplotlib.figure.Figure at 0x7f98e24adc88>"
      ]
     },
     "metadata": {},
     "output_type": "display_data"
    },
    {
     "data": {
      "image/png": "[encoded data removed]",
      "text/plain": [
       "<matplotlib.figure.Figure at 0x7f98e24adc50>"
      ]
     },
     "metadata": {},
     "output_type": "display_data"
    }
   ],
   "source": [
    "temp_idx1 = np.random.randint(0,np.shape(X_train_re)[0])\n",
    "temp_idx2 = np.random.randint(0,np.shape(X_test_re)[0])\n",
    "\n",
    "plt.imshow(X_train_temp[temp_idx1,:,:], cmap='gray')\n",
    "plt.show()\n",
    "plt.imshow(X_test_temp[temp_idx2,:,:], cmap='gray')\n",
    "plt.show()"
   ]
  },
  {
   "cell_type": "code",
   "execution_count": 5,
   "metadata": {},
   "outputs": [],
   "source": [
    "# scipy.io.savemat('MNIST_data_train_re.mat', {'X_train':X_train_temp, 'Y_train':Y_train})\n",
    "# scipy.io.savemat('MNIST_data_test_re.mat', {'X_test':X_test_temp, 'Y_test':Y_test})\n",
    "\n",
    "with open('MNIST_data_train_X.pkl','wb') as file:\n",
    "    pickle.dump(X_train_temp,file)\n",
    "with open('MNIST_data_train_Y.pkl','wb') as file:\n",
    "    pickle.dump(Y_train,file)\n",
    "with open('MNIST_data_test_X.pkl','wb') as file:\n",
    "    pickle.dump(X_test_temp,file)\n",
    "with open('MNIST_data_test_Y.pkl','wb') as file:\n",
    "    pickle.dump(Y_test,file)\n"
   ]
  }
 ],
 "metadata": {
  "kernelspec": {
   "display_name": "Python 3",
   "language": "python",
   "name": "python3"
  },
  "language_info": {
   "codemirror_mode": {
    "name": "ipython",
    "version": 3
   },
   "file_extension": ".py",
   "mimetype": "text/x-python",
   "name": "python",
   "nbconvert_exporter": "python",
   "pygments_lexer": "ipython3",
   "version": "3.6.3"
  }
 },
 "nbformat": 4,
 "nbformat_minor": 2
}
