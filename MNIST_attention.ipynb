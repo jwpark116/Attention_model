{
 "cells": [
  {
   "cell_type": "code",
   "execution_count": 1,
   "metadata": {},
   "outputs": [
    {
     "name": "stderr",
     "output_type": "stream",
     "text": [
      "/opt/anaconda/lib/python3.6/importlib/_bootstrap.py:219: RuntimeWarning: compiletime version 3.5 of module 'tensorflow.python.framework.fast_tensor_util' does not match runtime version 3.6\n",
      "  return f(*args, **kwds)\n"
     ]
    },
    {
     "name": "stdout",
     "output_type": "stream",
     "text": [
      "Extracting MNIST_data/train-images-idx3-ubyte.gz\n",
      "Extracting MNIST_data/train-labels-idx1-ubyte.gz\n",
      "Extracting MNIST_data/t10k-images-idx3-ubyte.gz\n",
      "Extracting MNIST_data/t10k-labels-idx1-ubyte.gz\n"
     ]
    }
   ],
   "source": [
    "# Import data\n",
    "from tensorflow.examples.tutorials.mnist import input_data\n",
    "import matplotlib.pyplot as plt\n",
    "import time\n",
    "import tensorflow as tf\n",
    "import numpy as np\n",
    "mnist = input_data.read_data_sets(\"MNIST_data/\", one_hot=True)\n",
    "\n",
    "# User Functions\n",
    "def yes_no(question):\n",
    "    answer = 0\n",
    "    while answer == 0:\n",
    "        answer_data = input(question)\n",
    "        if answer_data == 'y' or answer_data == 'n':\n",
    "            answer = 1\n",
    "        else:\n",
    "            print('Try again')\n",
    "    return answer_data\n",
    "\n",
    "def conv2d(x, W):\n",
    "    return tf.nn.conv2d(x, W, strides=[1, 1, 1, 1], padding='SAME')\n",
    "\n",
    "def max_pool_2x2(x):\n",
    "    return tf.nn.max_pool(x, ksize=[1, 2, 2, 1],\n",
    "                        strides=[1, 2, 2, 1], padding='SAME')\n",
    "\n",
    "def weight_variable(name, shape_in):\n",
    "    return tf.get_variable(name,shape=shape_in, initializer=tf.contrib.layers.xavier_initializer())\n",
    "\n",
    "def bias_variable(name, shape_in):\n",
    "    return tf.get_variable(name,shape=shape_in, initializer=tf.contrib.layers.xavier_initializer())\n"
   ]
  },
  {
   "cell_type": "code",
   "execution_count": 2,
   "metadata": {},
   "outputs": [
    {
     "name": "stdout",
     "output_type": "stream",
     "text": [
      "training feature\n",
      "(55000, 784)\n",
      "training label\n",
      "(55000, 10)\n"
     ]
    }
   ],
   "source": [
    "print('training feature\\n'+str(mnist.train.images.shape)+'\\ntraining label\\n'+str(mnist.train.labels.shape))\n",
    "X_train = mnist.train.images\n",
    "Y_train = mnist.train.labels\n",
    "X_test = mnist.test.images\n",
    "Y_test = mnist.test.labels"
   ]
  },
  {
   "cell_type": "code",
   "execution_count": 3,
   "metadata": {},
   "outputs": [
    {
     "name": "stdout",
     "output_type": "stream",
     "text": [
      "[12, 12]\n",
      "800\n"
     ]
    }
   ],
   "source": [
    "tf.reset_default_graph()\n",
    "config = tf.ConfigProto()\n",
    "config.gpu_options.allow_growth = True\n",
    "sess = tf.InteractiveSession(config=config)\n",
    "\n",
    "# CNN parameters\n",
    "feature_num = 784\n",
    "label_num = 10\n",
    "\n",
    "num_cell = 512\n",
    "num_step = 28\n",
    "num_input = 28\n",
    "\n",
    "num_fc1 = 256\n",
    "\n",
    "conv1_output_channel = 4\n",
    "conv2_output_channel = 8\n",
    "\n",
    "window_size = 6\n",
    "window_move = 2\n",
    "window_step = [int((num_step-window_size)/window_move+1), int((num_input-window_size)/window_move+1)]\n",
    "\n",
    "print(window_step)\n",
    "\n",
    "def LSTM_cell(C_prev, h_prev, x, Wf, bf, Wi, bi, Wc, bc, Wo, bo):\n",
    "    input_concat = tf.concat([h_prev, x], axis=1)\n",
    "    ft = tf.sigmoid(tf.matmul(input_concat, Wf) + bf)\n",
    "    it = tf.sigmoid(tf.matmul(input_concat, Wi) + bi)\n",
    "    Ct_tilda = tf.tanh(tf.matmul(input_concat, Wc) + bc)\n",
    "    Ct = tf.multiply(ft, C_prev) + tf.multiply(it, Ct_tilda)\n",
    "    ot = tf.sigmoid(tf.matmul(input_concat, Wo) + bo)\n",
    "    ht = tf.multiply(ot, tf.tanh(Ct))\n",
    "    return Ct, ht\n",
    "\n",
    "def Attention_model(y, c, W_tanh):\n",
    "    m = []\n",
    "    for i in range(len(y)):\n",
    "        m.append(tf.tanh(tf.matmul(tf.concat([y[i], c], axis=1), W_tanh)))\n",
    "    m_array = tf.concat([m[i] for i in range(len(y))], axis = 1)\n",
    "    s = tf.nn.softmax(m_array)\n",
    "    z = tf.reduce_sum([y[i]*tf.slice(s, begin=[0, i], size=[-1, 1]) for i in range(len(y))], axis = 0)\n",
    "    return s, z\n",
    "\n",
    "with tf.device('/gpu:1'):\n",
    "    x = tf.placeholder(tf.float32, shape=[None, feature_num])\n",
    "    y_ = tf.placeholder(tf.float32, shape=[None, label_num])\n",
    "    lr = tf.placeholder(tf.float64)\n",
    "\n",
    "    batch_num = tf.shape(x)[0]\n",
    "    \n",
    "    x_image = tf.reshape(x,[-1, num_step, num_input, 1])\n",
    "    \n",
    "    model_a = []\n",
    "    \n",
    "    for i in range(window_step[0]):\n",
    "        for j in range(window_step[1]):\n",
    "            model_a.append(tf.slice(x_image, begin=[0, window_move*i, window_move*j, 0], size=[-1, window_size, window_size, -1]))\n",
    "    \n",
    "    W_conv1 = weight_variable('W_conv1',[5, 5, 1, conv1_output_channel])\n",
    "    b_conv1 = bias_variable('b_conv1',[conv1_output_channel])\n",
    "    \n",
    "    W_conv2 = weight_variable('W_conv2',[3, 3, conv1_output_channel, conv2_output_channel])\n",
    "    b_conv2 = bias_variable('b_conv2',[conv2_output_channel])\n",
    "\n",
    "    \n",
    "    model_conv_flat = []\n",
    "    model_conv1 = []\n",
    "    model_conv2 = []\n",
    "    for i in range(len(model_a)):\n",
    "        model_conv1.append(tf.nn.relu(conv2d(model_a[i], W_conv1) + b_conv1))\n",
    "        model_conv2.append(tf.nn.relu(conv2d(model_conv1[i], W_conv2) + b_conv2))\n",
    "        model_conv_flat.append(tf.contrib.layers.flatten(model_conv2[i]))\n",
    "    \n",
    "    attention_state_num = model_conv_flat[0].get_shape()[1]\n",
    "    \n",
    "    attention_input_dim = attention_state_num + num_cell\n",
    "    \n",
    "    print(attention_input_dim)\n",
    "    \n",
    "    W_tanh1 = weight_variable('W_tanh1', [attention_input_dim, 1])\n",
    "    W_tanh2 = weight_variable('W_tanh2', [attention_input_dim, 1])\n",
    "    W_tanh3 = weight_variable('W_tanh3', [attention_input_dim, 1])\n",
    "    W_tanh4 = weight_variable('W_tanh4', [attention_input_dim, 1])\n",
    "    \n",
    "    Wf = weight_variable('Wf',[attention_input_dim, num_cell])\n",
    "    Wi = weight_variable('Wi',[attention_input_dim, num_cell])\n",
    "    Wc = weight_variable('Wc',[attention_input_dim, num_cell])\n",
    "    Wo = weight_variable('Wo',[attention_input_dim, num_cell])\n",
    "    bf = bias_variable('bf',[num_cell])\n",
    "    bi = bias_variable('bi',[num_cell])\n",
    "    bc = bias_variable('bc',[num_cell])\n",
    "    bo = bias_variable('bo',[num_cell])    \n",
    "    \n",
    "    C_init = tf.zeros([batch_num, num_cell], dtype=tf.float32)\n",
    "    h_init = tf.zeros([batch_num, num_cell], dtype=tf.float32)\n",
    "    attention_c_init = tf.zeros([batch_num, num_cell], dtype=tf.float32)\n",
    "    \n",
    "    attention_s1, attention_z1 = Attention_model(model_conv_flat, attention_c_init, W_tanh1)\n",
    "    \n",
    "    lstm_C1, lstm_h1 = LSTM_cell(C_init, h_init, attention_z1, Wf, bf, Wi, bi, Wc, bc, Wo, bo)\n",
    "    \n",
    "    attention_s2, attention_z2 = Attention_model(model_conv_flat, lstm_h1, W_tanh2)\n",
    "    \n",
    "    lstm_C2, lstm_h2 = LSTM_cell(lstm_C1, lstm_h1, attention_z2, Wf, bf, Wi, bi, Wc, bc, Wo, bo)\n",
    "    \n",
    "    attention_s3, attention_z3 = Attention_model(model_conv_flat, lstm_h2, W_tanh3)\n",
    "    \n",
    "    lstm_C3, lstm_h3 = LSTM_cell(lstm_C2, lstm_h2, attention_z3, Wf, bf, Wi, bi, Wc, bc, Wo, bo)\n",
    "    \n",
    "    attention_s4, attention_z4 = Attention_model(model_conv_flat, lstm_h3, W_tanh4)\n",
    "    \n",
    "    lstm_C4, lstm_h4 = LSTM_cell(lstm_C3, lstm_h3, attention_z4, Wf, bf, Wi, bi, Wc, bc, Wo, bo)\n",
    "    \n",
    "    W_out = weight_variable('W_out',[num_cell, label_num])\n",
    "    b_out = bias_variable('b_out',[label_num])\n",
    "    \n",
    "    logits = tf.matmul(lstm_h4, W_out) + b_out    \n",
    "    y_deep = tf.nn.softmax(logits)\n",
    "    \n",
    "    \n",
    "#     W_out = weight_variable('W_out',[num_cell, label_num])\n",
    "#     b_out = bias_variable('b_out',[label_num])\n",
    "    \n",
    "#     logits = tf.matmul(h, W_out) + b_out    \n",
    "#     y_deep = tf.nn.softmax(logits)\n",
    "\n",
    "    cross_entropy = tf.reduce_mean(tf.nn.softmax_cross_entropy_with_logits(labels=y_, logits=logits))\n",
    "    train_step = tf.train.AdamOptimizer(lr).minimize(cross_entropy)\n",
    "    # train_step = tf.train.GradientDescentOptimizer(0.5).minimize(cross_entropy)\n",
    "    correct_prediction = tf.equal(tf.argmax(y_deep,1), tf.argmax(y_,1))\n",
    "    accuracy = tf.reduce_mean(tf.cast(correct_prediction, tf.float32))\n",
    "    \n",
    "    "
   ]
  },
  {
   "cell_type": "code",
   "execution_count": 6,
   "metadata": {
    "scrolled": true
   },
   "outputs": [
    {
     "name": "stdout",
     "output_type": "stream",
     "text": [
      "Do you want to LOAD the trained variables? [y/n]y\n",
      "INFO:tensorflow:Restoring parameters from ./save/model_02\n",
      "Do you want to TRAIN the data? [y/n]y\n",
      "step 0, Cost = 0.3370, training accuracy 0.884766\n",
      "step 100, Cost = 0.3444, training accuracy 0.876953\n",
      "step 200, Cost = 0.3333, training accuracy 0.890625\n",
      "step 300, Cost = 0.3304, training accuracy 0.884766\n",
      "step 400, Cost = 0.3721, training accuracy 0.873047\n",
      "step 500, Cost = 0.3186, training accuracy 0.900391\n",
      "step 600, Cost = 0.3881, training accuracy 0.857422\n",
      "step 700, Cost = 0.3565, training accuracy 0.890625\n",
      "step 800, Cost = 0.3090, training accuracy 0.892578\n",
      "step 900, Cost = 0.3240, training accuracy 0.898438\n",
      "step 1000, Cost = 0.4037, training accuracy 0.880859\n",
      "step 1100, Cost = 0.3581, training accuracy 0.890625\n",
      "step 1200, Cost = 0.3818, training accuracy 0.878906\n",
      "step 1300, Cost = 0.3126, training accuracy 0.884766\n",
      "step 1400, Cost = 0.3807, training accuracy 0.898438\n",
      "step 1500, Cost = 0.3703, training accuracy 0.884766\n",
      "step 1600, Cost = 0.3590, training accuracy 0.890625\n",
      "step 1700, Cost = 0.3736, training accuracy 0.878906\n",
      "step 1800, Cost = 0.3232, training accuracy 0.880859\n",
      "step 1900, Cost = 0.3614, training accuracy 0.884766\n",
      "step 2000, Cost = 0.3606, training accuracy 0.867188\n",
      "step 2100, Cost = 0.3046, training accuracy 0.888672\n",
      "step 2200, Cost = 0.3797, training accuracy 0.878906\n",
      "step 2300, Cost = 0.3497, training accuracy 0.886719\n",
      "step 2400, Cost = 0.3151, training accuracy 0.892578\n",
      "test accuracy 0.8929\n",
      "Do you want to SAVE the trained variables? [y/n]y\n"
     ]
    }
   ],
   "source": [
    "load_name = 'model_02'\n",
    "save_name = 'model_02'\n",
    "\n",
    "num_iter = 2500\n",
    "num_batch = 512\n",
    "\n",
    "sess.run(tf.global_variables_initializer())\n",
    "\n",
    "saver = tf.train.Saver()\n",
    "\n",
    "load_flag = yes_no('Do you want to LOAD the trained variables? [y/n]')\n",
    "if load_flag == 'y':\n",
    "    save_path = './save/' + load_name\n",
    "    saver.restore(sess, save_path)\n",
    "    train_flag = yes_no('Do you want to TRAIN the data? [y/n]')\n",
    "else:\n",
    "    train_flag = 'y'\n",
    "\n",
    "\n",
    "if train_flag == 'y':\n",
    "    for i in range(num_iter):\n",
    "        batch = mnist.train.next_batch(num_batch)\n",
    "        if i%100 == 0:\n",
    "            train_accuracy = accuracy.eval(feed_dict={x:batch[0], y_: batch[1]})\n",
    "            cost_value = sess.run(cross_entropy, feed_dict={x: batch[0], y_: batch[1]})\n",
    "            print(\"step %d, Cost = %.4f, training accuracy %g\"%(i, cost_value, train_accuracy))\n",
    "        train_step.run(feed_dict={x: batch[0], y_: batch[1], lr: 0.000005})\n",
    "\n",
    "m_test = np.size(X_test,0)\n",
    "sample = 100\n",
    "temp_accuracy = np.zeros([int(m_test/sample)])\n",
    "for i in range(0,int(m_test/sample)):\n",
    "    temp_temp = accuracy.eval(feed_dict={x: X_test[(sample*i):(sample*(i+1)),:], y_: Y_test[(sample*i):(sample*(i+1)),:]})\n",
    "    temp_accuracy[i] = temp_temp\n",
    "    # print(\"temp accuracy %g\"%temp_temp)\n",
    "print(\"test accuracy %g\"%np.average(temp_accuracy))\n",
    "\n",
    "if train_flag == 'y':\n",
    "    save_flag = yes_no('Do you want to SAVE the trained variables? [y/n]')\n",
    "else:\n",
    "    save_flag = 'n'\n",
    "\n",
    "if save_flag == 'y':\n",
    "    save_path = './save/'+save_name\n",
    "    saver.save(sess, save_path)"
   ]
  },
  {
   "cell_type": "code",
   "execution_count": 7,
   "metadata": {
    "scrolled": false
   },
   "outputs": [
    {
     "name": "stdout",
     "output_type": "stream",
     "text": [
      "\n",
      "Random data set 8049\n",
      "Test set label   = [0 0 0 0 0 1 0 0 0 0]\n"
     ]
    },
    {
     "data": {
      "image/png": "[encoded data removed]",
      "text/plain": [
       "<matplotlib.figure.Figure at 0x7fb99ae45710>"
      ]
     },
     "metadata": {},
     "output_type": "display_data"
    },
    {
     "data": {
      "image/png": "[encoded data removed]",
      "text/plain": [
       "<matplotlib.figure.Figure at 0x7fb9692e2048>"
      ]
     },
     "metadata": {},
     "output_type": "display_data"
    },
    {
     "name": "stdout",
     "output_type": "stream",
     "text": [
      "pred probability = [[ 0  0  5 17  0 76  0  0  0  0]]\n",
      "pred number      = 5\n",
      "continue? or end? = \n",
      "\n",
      "Random data set 4224\n",
      "Test set label   = [0 0 0 0 0 0 0 0 0 1]\n"
     ]
    },
    {
     "data": {
      "image/png": "[encoded data removed]",
      "text/plain": [
       "<matplotlib.figure.Figure at 0x7fb9691ebe10>"
      ]
     },
     "metadata": {},
     "output_type": "display_data"
    },
    {
     "data": {
      "image/png": "[encoded data removed]",
      "text/plain": [
       "<matplotlib.figure.Figure at 0x7fb94274fdd8>"
      ]
     },
     "metadata": {},
     "output_type": "display_data"
    },
    {
     "name": "stdout",
     "output_type": "stream",
     "text": [
      "pred probability = [[ 0  0  0  2  4  0  0 26  0 66]]\n",
      "pred number      = 9\n",
      "continue? or end? = \n",
      "\n",
      "Random data set 1894\n",
      "Test set label   = [0 0 0 0 0 0 0 0 0 1]\n"
     ]
    },
    {
     "data": {
      "image/png": "[encoded data removed]",
      "text/plain": [
       "<matplotlib.figure.Figure at 0x7fb9427606a0>"
      ]
     },
     "metadata": {},
     "output_type": "display_data"
    },
    {
     "data": {
      "image/png": "[encoded data removed]",
      "text/plain": [
       "<matplotlib.figure.Figure at 0x7fb940121278>"
      ]
     },
     "metadata": {},
     "output_type": "display_data"
    },
    {
     "name": "stdout",
     "output_type": "stream",
     "text": [
      "pred probability = [[ 0  0  0  1  0  5  0 30  0 61]]\n",
      "pred number      = 9\n",
      "continue? or end? = \n",
      "\n",
      "Random data set 7444\n",
      "Test set label   = [0 0 0 0 0 0 0 0 1 0]\n"
     ]
    },
    {
     "data": {
      "image/png": "[encoded data removed]",
      "text/plain": [
       "<matplotlib.figure.Figure at 0x7fb94014b208>"
      ]
     },
     "metadata": {},
     "output_type": "display_data"
    },
    {
     "data": {
      "image/png": "[encoded data removed]",
      "text/plain": [
       "<matplotlib.figure.Figure at 0x7fb96958fba8>"
      ]
     },
     "metadata": {},
     "output_type": "display_data"
    },
    {
     "name": "stdout",
     "output_type": "stream",
     "text": [
      "pred probability = [[ 0  0  0  0  0  0 14  0 83  0]]\n",
      "pred number      = 8\n",
      "continue? or end? = \n",
      "\n",
      "Random data set 793\n",
      "Test set label   = [0 0 0 0 0 0 0 0 1 0]\n"
     ]
    },
    {
     "data": {
      "image/png": "[encoded data removed]",
      "text/plain": [
       "<matplotlib.figure.Figure at 0x7fb9904af4e0>"
      ]
     },
     "metadata": {},
     "output_type": "display_data"
    },
    {
     "data": {
      "image/png": "[encoded data removed]",
      "text/plain": [
       "<matplotlib.figure.Figure at 0x7fb942aba4e0>"
      ]
     },
     "metadata": {},
     "output_type": "display_data"
    },
    {
     "name": "stdout",
     "output_type": "stream",
     "text": [
      "pred probability = [[ 0  0  0  0  0  0  0  0 98  0]]\n",
      "pred number      = 8\n",
      "continue? or end? = \n",
      "\n",
      "Random data set 6916\n",
      "Test set label   = [0 0 0 0 0 0 0 0 0 1]\n"
     ]
    },
    {
     "data": {
      "image/png": "[encoded data removed]",
      "text/plain": [
       "<matplotlib.figure.Figure at 0x7fb9681cd9e8>"
      ]
     },
     "metadata": {},
     "output_type": "display_data"
    },
    {
     "data": {
      "image/png": "[encoded data removed]",
      "text/plain": [
       "<matplotlib.figure.Figure at 0x7fb931c72b70>"
      ]
     },
     "metadata": {},
     "output_type": "display_data"
    },
    {
     "name": "stdout",
     "output_type": "stream",
     "text": [
      "pred probability = [[ 0  0  0  1  0  0  0  1  0 96]]\n",
      "pred number      = 9\n",
      "continue? or end? = \n",
      "\n",
      "Random data set 3059\n",
      "Test set label   = [0 0 0 0 0 0 0 1 0 0]\n"
     ]
    },
    {
     "data": {
      "image/png": "[encoded data removed]",
      "text/plain": [
       "<matplotlib.figure.Figure at 0x7fb9319f52b0>"
      ]
     },
     "metadata": {},
     "output_type": "display_data"
    },
    {
     "data": {
      "image/png": "[encoded data removed]",
      "text/plain": [
       "<matplotlib.figure.Figure at 0x7fb969c834a8>"
      ]
     },
     "metadata": {},
     "output_type": "display_data"
    },
    {
     "name": "stdout",
     "output_type": "stream",
     "text": [
      "pred probability = [[ 0  8  1  0  0  3  0 84  0  0]]\n",
      "pred number      = 7\n",
      "continue? or end? = \n",
      "\n",
      "Random data set 9127\n",
      "Test set label   = [0 0 0 0 0 0 1 0 0 0]\n"
     ]
    },
    {
     "data": {
      "image/png": "[encoded data removed]",
      "text/plain": [
       "<matplotlib.figure.Figure at 0x7fb94192ff98>"
      ]
     },
     "metadata": {},
     "output_type": "display_data"
    },
    {
     "data": {
      "image/png": "[encoded data removed]",
      "text/plain": [
       "<matplotlib.figure.Figure at 0x7fb94140ebe0>"
      ]
     },
     "metadata": {},
     "output_type": "display_data"
    },
    {
     "name": "stdout",
     "output_type": "stream",
     "text": [
      "pred probability = [[ 0  0  0  0  0  0 99  0  0  0]]\n",
      "pred number      = 6\n",
      "continue? or end? = \n",
      "\n",
      "Random data set 8935\n",
      "Test set label   = [0 0 0 0 0 0 0 0 0 1]\n"
     ]
    },
    {
     "data": {
      "image/png": "[encoded data removed]",
      "text/plain": [
       "<matplotlib.figure.Figure at 0x7fb941352390>"
      ]
     },
     "metadata": {},
     "output_type": "display_data"
    },
    {
     "data": {
      "image/png": "[encoded data removed]",
      "text/plain": [
       "<matplotlib.figure.Figure at 0x7fb978312e48>"
      ]
     },
     "metadata": {},
     "output_type": "display_data"
    },
    {
     "name": "stdout",
     "output_type": "stream",
     "text": [
      "pred probability = [[ 0  0  0  0  0  0  0  0  0 99]]\n",
      "pred number      = 9\n",
      "continue? or end? = end\n"
     ]
    }
   ],
   "source": [
    "test = 'go'\n",
    "while test != 'end':\n",
    "    temp_idx=np.random.randint(1,m_test)\n",
    "    print('\\nRandom data set '+str(temp_idx))\n",
    "    print('Test set label   = '+str(np.int_(Y_test[temp_idx])))\n",
    "    y_pre = sess.run(y_deep,feed_dict={x: X_test[temp_idx,:].reshape(1,784)})\n",
    "    a_out = sess.run(model_a,feed_dict={x: X_test[temp_idx,:].reshape(1,784)})\n",
    "    a_out = np.reshape(a_out, [window_step[0]*window_step[1], window_size, window_size])\n",
    "    s1_out = sess.run(attention_s1,feed_dict={x: X_test[temp_idx,:].reshape(1,784)})\n",
    "    s2_out = sess.run(attention_s2,feed_dict={x: X_test[temp_idx,:].reshape(1,784)})\n",
    "    s3_out = sess.run(attention_s3,feed_dict={x: X_test[temp_idx,:].reshape(1,784)})\n",
    "    s4_out = sess.run(attention_s4,feed_dict={x: X_test[temp_idx,:].reshape(1,784)})\n",
    "    s1_image = np.reshape(s1_out,[window_step[0], window_step[1]])\n",
    "    s2_image = np.reshape(s2_out,[window_step[0], window_step[1]])\n",
    "    s3_image = np.reshape(s3_out,[window_step[0], window_step[1]])\n",
    "    s4_image = np.reshape(s4_out,[window_step[0], window_step[1]])\n",
    "    \n",
    "#     heat_map = np.zeros([28,28])\n",
    "#     for i in range(window_step[0]):\n",
    "#         for j in range(window_step[1]):\n",
    "#             heat_map[window_move*i:(window_move*i+window_size),window_move*j:(window_move*j+window_size)] = \\\n",
    "#                 heat_map[window_move*i:(window_move*i+window_size),window_move*j:(window_move*j+window_size)] + \\\n",
    "#                 np.ones([window_size,window_size])*s_image[i,j]\n",
    "    \n",
    "#     plt.imshow(heat_map/np.max(heat_map), cmap='hot')\n",
    "#     plt.show()\n",
    "\n",
    "    f1, axarr1 = plt.subplots(1,4)\n",
    "    axarr1[0].imshow(s1_image, cmap='hot')\n",
    "    axarr1[0].axis(\"off\")\n",
    "    axarr1[1].imshow(s2_image, cmap='hot')\n",
    "    axarr1[1].axis(\"off\")\n",
    "    axarr1[2].imshow(s3_image, cmap='hot')\n",
    "    axarr1[2].axis(\"off\")\n",
    "    axarr1[3].imshow(s4_image, cmap='hot')\n",
    "    axarr1[3].axis(\"off\")\n",
    "    plt.show()\n",
    "    \n",
    "#     plt.imshow(s_image, cmap='hot')\n",
    "    \n",
    "    \n",
    "    f, axarr = plt.subplots(window_step[0], window_step[1])\n",
    "    for i in range(window_step[0]):\n",
    "        for j in range(window_step[1]):\n",
    "#             print(s_out[0, window_step[1]*i + j])\n",
    "#             axarr[i,j].imshow(a_out[window_step[1]*i + j]*s_out[0, window_step[1]*i + j], cmap='gray_r')\n",
    "            axarr[i,j].imshow(a_out[window_step[1]*i + j], cmap='gray_r')\n",
    "            axarr[i,j].axis(\"off\")\n",
    "\n",
    "    plt.show()\n",
    "    \n",
    "    print('pred probability = '+str(np.int_(y_pre*100)))\n",
    "    print('pred number      = '+str(np.argmax(y_pre[0,:])))\n",
    "    test = input('continue? or end? = ')"
   ]
  },
  {
   "cell_type": "code",
   "execution_count": null,
   "metadata": {
    "collapsed": true
   },
   "outputs": [],
   "source": []
  },
  {
   "cell_type": "code",
   "execution_count": null,
   "metadata": {
    "collapsed": true
   },
   "outputs": [],
   "source": []
  }
 ],
 "metadata": {
  "kernelspec": {
   "display_name": "Python 3",
   "language": "python",
   "name": "python3"
  },
  "language_info": {
   "codemirror_mode": {
    "name": "ipython",
    "version": 3
   },
   "file_extension": ".py",
   "mimetype": "text/x-python",
   "name": "python",
   "nbconvert_exporter": "python",
   "pygments_lexer": "ipython3",
   "version": "3.6.3"
  }
 },
 "nbformat": 4,
 "nbformat_minor": 2
}
