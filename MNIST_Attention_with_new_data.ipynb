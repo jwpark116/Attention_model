{
 "cells": [
  {
   "cell_type": "code",
   "execution_count": 1,
   "metadata": {},
   "outputs": [
    {
     "name": "stderr",
     "output_type": "stream",
     "text": [
      "/opt/anaconda/lib/python3.6/importlib/_bootstrap.py:219: RuntimeWarning: compiletime version 3.5 of module 'tensorflow.python.framework.fast_tensor_util' does not match runtime version 3.6\n",
      "  return f(*args, **kwds)\n"
     ]
    }
   ],
   "source": [
    "# Import data\n",
    "import matplotlib.pyplot as plt\n",
    "import time\n",
    "import tensorflow as tf\n",
    "import numpy as np\n",
    "import scipy.io\n",
    "\n",
    "# User Functions\n",
    "def yes_no(question):\n",
    "    answer = 0\n",
    "    while answer == 0:\n",
    "        answer_data = input(question)\n",
    "        if answer_data == 'y' or answer_data == 'n':\n",
    "            answer = 1\n",
    "        else:\n",
    "            print('Try again')\n",
    "    return answer_data\n",
    "\n",
    "def conv2d(x, W):\n",
    "    return tf.nn.conv2d(x, W, strides=[1, 1, 1, 1], padding='SAME')\n",
    "\n",
    "def max_pool_2x2(x):\n",
    "    return tf.nn.max_pool(x, ksize=[1, 2, 2, 1],\n",
    "                        strides=[1, 2, 2, 1], padding='SAME')\n",
    "\n",
    "def weight_variable(name, shape_in):\n",
    "    return tf.get_variable(name,shape=shape_in, initializer=tf.contrib.layers.xavier_initializer())\n",
    "def bias_variable(name, shape_in):\n",
    "    return tf.get_variable(name,shape=shape_in, initializer=tf.contrib.layers.xavier_initializer())"
   ]
  },
  {
   "cell_type": "code",
   "execution_count": 2,
   "metadata": {},
   "outputs": [
    {
     "name": "stdout",
     "output_type": "stream",
     "text": [
      "training data\n",
      "(55000, 112, 112)(55000, 10)\n",
      "testing data\n",
      "(10000, 112, 112)(10000, 10)\n"
     ]
    }
   ],
   "source": [
    "mat_data_train = scipy.io.loadmat('MNIST_data_train_re.mat')\n",
    "mat_data_test = scipy.io.loadmat('MNIST_data_test_re.mat')\n",
    "\n",
    "X_train = mat_data_train['X_train']\n",
    "Y_train = mat_data_train['Y_train']\n",
    "X_test = mat_data_test['X_test']\n",
    "Y_test = mat_data_test['Y_test']\n",
    "\n",
    "del mat_data_train\n",
    "del mat_data_test\n",
    "\n",
    "print('training data\\n'+str(np.shape(X_train))+str(np.shape(Y_train))+'\\ntesting data\\n'+str(np.shape(X_test))+str(np.shape(Y_test)))"
   ]
  },
  {
   "cell_type": "code",
   "execution_count": 3,
   "metadata": {},
   "outputs": [
    {
     "name": "stdout",
     "output_type": "stream",
     "text": [
      "[7, 7]\n",
      "1568\n",
      "2080\n"
     ]
    }
   ],
   "source": [
    "tf.reset_default_graph()\n",
    "config = tf.ConfigProto()\n",
    "config.gpu_options.allow_growth = True\n",
    "sess = tf.InteractiveSession(config=config)\n",
    "\n",
    "# CNN parameters\n",
    "input_size_1 = 112\n",
    "input_size_2 = 112\n",
    "label_num = 10\n",
    "\n",
    "num_cell = 512\n",
    "num_step = 28\n",
    "num_input = 28\n",
    "\n",
    "num_fc1 = 256\n",
    "\n",
    "conv1_output_channel = 32\n",
    "conv2_output_channel = 32\n",
    "\n",
    "window_size = 28\n",
    "window_move = 14\n",
    "window_step = [int((input_size_1-window_size)/window_move+1), int((input_size_2-window_size)/window_move+1)]\n",
    "\n",
    "print(window_step)\n",
    "\n",
    "def LSTM_cell(C_prev, h_prev, x, Wf, bf, Wi, bi, Wc, bc, Wo, bo):\n",
    "    input_concat = tf.concat([h_prev, x], axis=1)\n",
    "    ft = tf.sigmoid(tf.matmul(input_concat, Wf) + bf)\n",
    "    it = tf.sigmoid(tf.matmul(input_concat, Wi) + bi)\n",
    "    Ct_tilda = tf.tanh(tf.matmul(input_concat, Wc) + bc)\n",
    "    Ct = tf.multiply(ft, C_prev) + tf.multiply(it, Ct_tilda)\n",
    "    ot = tf.sigmoid(tf.matmul(input_concat, Wo) + bo)\n",
    "    ht = tf.multiply(ot, tf.tanh(Ct))\n",
    "    return Ct, ht\n",
    "\n",
    "def Attention_model(y, c, W_tanh):\n",
    "    m = []\n",
    "    for i in range(len(y)):\n",
    "        m.append(tf.tanh(tf.matmul(tf.concat([y[i], c], axis=1), W_tanh)))\n",
    "    m_array = tf.concat([m[i] for i in range(len(y))], axis = 1)\n",
    "    s = tf.nn.softmax(m_array)\n",
    "    z = tf.reduce_sum([y[i]*tf.slice(s, begin=[0, i], size=[-1, 1]) for i in range(len(y))], axis = 0)\n",
    "    return s, z\n",
    "\n",
    "with tf.device('/gpu:1'):\n",
    "    x = tf.placeholder(tf.float32, shape=[None, input_size_1, input_size_2])\n",
    "    y_ = tf.placeholder(tf.float32, shape=[None, label_num])\n",
    "    lr = tf.placeholder(tf.float64)\n",
    "\n",
    "    batch_num = tf.shape(x)[0]\n",
    "    \n",
    "    x_image = tf.reshape(x,[-1, input_size_1, input_size_2, 1])\n",
    "    \n",
    "    model_a = []\n",
    "    \n",
    "    for i in range(window_step[0]):\n",
    "        for j in range(window_step[1]):\n",
    "            model_a.append(tf.slice(x_image, begin=[0, window_move*i, window_move*j, 0], size=[-1, window_size, window_size, -1]))\n",
    "    \n",
    "    W_conv1 = weight_variable('W_conv1',[5, 5, 1, conv1_output_channel])\n",
    "    b_conv1 = bias_variable('b_conv1',[conv1_output_channel])\n",
    "    \n",
    "    W_conv2 = weight_variable('W_conv2',[5, 5, conv1_output_channel, conv2_output_channel])\n",
    "    b_conv2 = bias_variable('b_conv2',[conv2_output_channel])\n",
    "\n",
    "    \n",
    "    model_conv_flat = []\n",
    "    model_conv1 = []\n",
    "    model_conv2 = []\n",
    "    for i in range(len(model_a)):\n",
    "        model_conv1.append(max_pool_2x2(tf.nn.relu(conv2d(model_a[i], W_conv1) + b_conv1)))\n",
    "        model_conv2.append(max_pool_2x2(tf.nn.relu(conv2d(model_conv1[i], W_conv2) + b_conv2)))\n",
    "        model_conv_flat.append(tf.contrib.layers.flatten(model_conv2[i]))\n",
    "    \n",
    "    attention_state_num = model_conv_flat[0].get_shape()[1]\n",
    "    print(attention_state_num)\n",
    "    attention_input_dim = attention_state_num + num_cell\n",
    "    \n",
    "    print(attention_input_dim)\n",
    "    \n",
    "    W_tanh = weight_variable('W_tanh1', [attention_input_dim, 1])\n",
    "    \n",
    "    Wf = weight_variable('Wf',[attention_input_dim, num_cell])\n",
    "    Wi = weight_variable('Wi',[attention_input_dim, num_cell])\n",
    "    Wc = weight_variable('Wc',[attention_input_dim, num_cell])\n",
    "    Wo = weight_variable('Wo',[attention_input_dim, num_cell])\n",
    "    bf = bias_variable('bf',[num_cell])\n",
    "    bi = bias_variable('bi',[num_cell])\n",
    "    bc = bias_variable('bc',[num_cell])\n",
    "    bo = bias_variable('bo',[num_cell])    \n",
    "    \n",
    "    C_init = tf.zeros([batch_num, num_cell], dtype=tf.float32)\n",
    "    h_init = tf.zeros([batch_num, num_cell], dtype=tf.float32)\n",
    "    attention_c_init = tf.zeros([batch_num, num_cell], dtype=tf.float32)\n",
    "    \n",
    "    attention_s1, attention_z1 = Attention_model(model_conv_flat, attention_c_init, W_tanh)\n",
    "    \n",
    "    lstm_C1, lstm_h1 = LSTM_cell(C_init, h_init, attention_z1, Wf, bf, Wi, bi, Wc, bc, Wo, bo)\n",
    "    \n",
    "    attention_s2, attention_z2 = Attention_model(model_conv_flat, lstm_h1, W_tanh)\n",
    "    \n",
    "    lstm_C2, lstm_h2 = LSTM_cell(lstm_C1, lstm_h1, attention_z2, Wf, bf, Wi, bi, Wc, bc, Wo, bo)\n",
    "    \n",
    "    attention_s3, attention_z3 = Attention_model(model_conv_flat, lstm_h2, W_tanh)\n",
    "    \n",
    "    lstm_C3, lstm_h3 = LSTM_cell(lstm_C2, lstm_h2, attention_z3, Wf, bf, Wi, bi, Wc, bc, Wo, bo)\n",
    "    \n",
    "    attention_s4, attention_z4 = Attention_model(model_conv_flat, lstm_h3, W_tanh)\n",
    "    \n",
    "    lstm_C4, lstm_h4 = LSTM_cell(lstm_C3, lstm_h3, attention_z4, Wf, bf, Wi, bi, Wc, bc, Wo, bo)\n",
    "    \n",
    "#     lstm_out_concat = tf.concat([lstm_h1, lstm_h2, lstm_h3, lstm_h4], axis=1)\n",
    "    \n",
    "    W_out = weight_variable('W_out',[num_cell, label_num])\n",
    "    b_out = bias_variable('b_out',[label_num])\n",
    "    \n",
    "    logits = tf.matmul(lstm_h4, W_out) + b_out    \n",
    "    y_deep = tf.nn.softmax(logits)\n",
    "    \n",
    "    \n",
    "#     W_out = weight_variable('W_out',[num_cell, label_num])\n",
    "#     b_out = bias_variable('b_out',[label_num])\n",
    "    \n",
    "#     logits = tf.matmul(h, W_out) + b_out    \n",
    "#     y_deep = tf.nn.softmax(logits)\n",
    "\n",
    "    cross_entropy = tf.reduce_mean(tf.nn.softmax_cross_entropy_with_logits(labels=y_, logits=logits))\n",
    "    train_step = tf.train.AdamOptimizer(lr).minimize(cross_entropy)\n",
    "    # train_step = tf.train.GradientDescentOptimizer(0.5).minimize(cross_entropy)\n",
    "    correct_prediction = tf.equal(tf.argmax(y_deep,1), tf.argmax(y_,1))\n",
    "    accuracy = tf.reduce_mean(tf.cast(correct_prediction, tf.float32))\n",
    "    \n",
    "    "
   ]
  },
  {
   "cell_type": "code",
   "execution_count": null,
   "metadata": {
    "collapsed": true,
    "scrolled": false
   },
   "outputs": [],
   "source": []
  },
  {
   "cell_type": "code",
   "execution_count": 5,
   "metadata": {},
   "outputs": [
    {
     "name": "stdout",
     "output_type": "stream",
     "text": [
      "Do you want to LOAD the trained variables? [y/n]y\n",
      "INFO:tensorflow:Restoring parameters from ./save/model_04\n",
      "Do you want to TRAIN the data? [y/n]y\n",
      "55000 10000\n",
      "epoch 1/3, cost= 0.137823, training accuracy= 0.960938\n",
      "test accuracy 0.9556\n",
      "epoch 2/3, cost= 0.174925, training accuracy= 0.941406\n",
      "test accuracy 0.9562\n",
      "epoch 3/3, cost= 0.106678, training accuracy= 0.96875\n",
      "test accuracy 0.9556\n"
     ]
    }
   ],
   "source": [
    "load_name = 'model_04'\n",
    "save_name = 'model_04'\n",
    "\n",
    "sess.run(tf.global_variables_initializer())\n",
    "\n",
    "saver = tf.train.Saver()\n",
    "\n",
    "load_flag = yes_no('Do you want to LOAD the trained variables? [y/n]')\n",
    "if load_flag == 'y':\n",
    "    save_path = './save/' + load_name\n",
    "    saver.restore(sess, save_path)\n",
    "    train_flag = yes_no('Do you want to TRAIN the data? [y/n]')\n",
    "else:\n",
    "    train_flag = 'y'\n",
    "\n",
    "\n",
    "train_data_num = np.shape(X_train)[0]\n",
    "m_test = np.shape(X_test)[0]\n",
    "\n",
    "print(train_data_num,m_test)\n",
    "\n",
    "batch_size = 256\n",
    "nb_epoch = 3\n",
    "# Trainning step\n",
    "if train_flag == 'y':\n",
    "    for i in range(nb_epoch):\n",
    "        order = np.arange(train_data_num)\n",
    "        np.random.shuffle(order)\n",
    "        for batch_step in range(int(train_data_num/batch_size)+1):\n",
    "            batch_idx = [batch_step*batch_size, (batch_step+1)*batch_size]\n",
    "            if batch_idx[1] > train_data_num: batch_idx[1] = train_data_num\n",
    "            batch_x = X_train[order[batch_idx[0]:batch_idx[1]],:,:]\n",
    "            batch_y = Y_train[order[batch_idx[0]:batch_idx[1]],:]\n",
    "#             print(np.shape(batch_x),np.shape(batch_y))\n",
    "            train_step.run(feed_dict={x:batch_x, y_: batch_y, lr:0.000001})\n",
    "            \n",
    "            print_num = int((batch_step/(int(train_data_num/batch_size)+1))*30)\n",
    "            print_string = \"epoch %d/%d, [\"%(i+1,nb_epoch)+\"=\"*print_num+\" \"*(30-print_num) +\"]\"\n",
    "            print(print_string, end=\"\\r\")\n",
    "\n",
    "        batch_idx = np.random.choice(train_data_num,batch_size, replace = False)\n",
    "        batch_x = X_train[batch_idx,:,:]\n",
    "        batch_y = Y_train[batch_idx,:]\n",
    "        train_accuracy = accuracy.eval(feed_dict={x:batch_x, y_: batch_y})\n",
    "        cost_value = cross_entropy.eval(feed_dict={x: batch_x, y_: batch_y})\n",
    "        print(\"epoch %d/%d, cost= %g, training accuracy= %g\"%(i+1, nb_epoch, cost_value, train_accuracy))\n",
    "        save_path = './save/' + save_name\n",
    "        saver.save(sess, save_path)\n",
    "\n",
    "        # TEST accuracy calculation\n",
    "        sample = batch_size\n",
    "        temp_accuracy=np.zeros([int(m_test/sample)+1])\n",
    "        for i in range(int(m_test/sample)+1):\n",
    "            start = i*sample\n",
    "            end = (i+1)*sample\n",
    "            if end > m_test:\n",
    "                end = m_test\n",
    "            batch_x = X_test[start:end,:,:]\n",
    "            batch_y = Y_test[start:end,:]\n",
    "#             print(np.shape(batch_x),np.shape(batch_y))\n",
    "            temp_temp = accuracy.eval(feed_dict={x: batch_x, y_: batch_y})\n",
    "            temp_accuracy[i] = temp_temp * (end - start)\n",
    "            # print(\"temp accuracy %g\"%temp_temp)\n",
    "        temp_accuracy = np.sum(temp_accuracy)/m_test\n",
    "        print(\"test accuracy %g\"%temp_accuracy)"
   ]
  },
  {
   "cell_type": "code",
   "execution_count": 6,
   "metadata": {
    "scrolled": false
   },
   "outputs": [
    {
     "name": "stdout",
     "output_type": "stream",
     "text": [
      "\n",
      "Random data set 711\n",
      "Test set label   = [0 0 0 0 0 1 0 0 0 0]\n",
      "pred probability = [[ 0  0  0  0  0 99  0  0  0  0]]\n",
      "pred number      = 5\n"
     ]
    },
    {
     "data": {
      "image/png": "[encoded data removed]",
      "text/plain": [
       "<matplotlib.figure.Figure at 0x7fabe8dcac50>"
      ]
     },
     "metadata": {},
     "output_type": "display_data"
    },
    {
     "name": "stdout",
     "output_type": "stream",
     "text": [
      "continue? or end? = \n",
      "\n",
      "Random data set 1566\n",
      "Test set label   = [0 0 0 0 0 0 0 1 0 0]\n",
      "pred probability = [[ 0  1  0  0  1  0  0 90  0  5]]\n",
      "pred number      = 7\n"
     ]
    },
    {
     "data": {
      "image/png": "[encoded data removed]",
      "text/plain": [
       "<matplotlib.figure.Figure at 0x7faa089315c0>"
      ]
     },
     "metadata": {},
     "output_type": "display_data"
    },
    {
     "name": "stdout",
     "output_type": "stream",
     "text": [
      "continue? or end? = \n",
      "\n",
      "Random data set 7901\n",
      "Test set label   = [0 0 0 0 0 0 0 0 1 0]\n",
      "pred probability = [[36  0  0  0  0  0  1  0 62  0]]\n",
      "pred number      = 8\n"
     ]
    },
    {
     "data": {
      "image/png": "[encoded data removed]",
      "text/plain": [
       "<matplotlib.figure.Figure at 0x7faa09e8b198>"
      ]
     },
     "metadata": {},
     "output_type": "display_data"
    },
    {
     "name": "stdout",
     "output_type": "stream",
     "text": [
      "continue? or end? = \n",
      "\n",
      "Random data set 8238\n",
      "Test set label   = [0 0 1 0 0 0 0 0 0 0]\n",
      "pred probability = [[ 0  0 98  1  0  0  0  0  0  0]]\n",
      "pred number      = 2\n"
     ]
    },
    {
     "data": {
      "image/png": "[encoded data removed]",
      "text/plain": [
       "<matplotlib.figure.Figure at 0x7faa09e3b748>"
      ]
     },
     "metadata": {},
     "output_type": "display_data"
    },
    {
     "name": "stdout",
     "output_type": "stream",
     "text": [
      "continue? or end? = \n",
      "\n",
      "Random data set 3730\n",
      "Test set label   = [0 0 0 0 0 0 0 1 0 0]\n",
      "pred probability = [[ 0  0  0  0  0  0  0 69  0 30]]\n",
      "pred number      = 7\n"
     ]
    },
    {
     "data": {
      "image/png": "[encoded data removed]",
      "text/plain": [
       "<matplotlib.figure.Figure at 0x7faa09db6898>"
      ]
     },
     "metadata": {},
     "output_type": "display_data"
    },
    {
     "name": "stdout",
     "output_type": "stream",
     "text": [
      "continue? or end? = \n",
      "\n",
      "Random data set 6882\n",
      "Test set label   = [0 0 0 1 0 0 0 0 0 0]\n",
      "pred probability = [[ 0  0  0 99  0  0  0  0  0  0]]\n",
      "pred number      = 3\n"
     ]
    },
    {
     "data": {
      "image/png": "[encoded data removed]",
      "text/plain": [
       "<matplotlib.figure.Figure at 0x7faa088f03c8>"
      ]
     },
     "metadata": {},
     "output_type": "display_data"
    },
    {
     "name": "stdout",
     "output_type": "stream",
     "text": [
      "continue? or end? = \n",
      "\n",
      "Random data set 4941\n",
      "Test set label   = [0 0 1 0 0 0 0 0 0 0]\n",
      "pred probability = [[ 0  0 99  0  0  0  0  0  0  0]]\n",
      "pred number      = 2\n"
     ]
    },
    {
     "data": {
      "image/png": "[encoded data removed]",
      "text/plain": [
       "<matplotlib.figure.Figure at 0x7faa09c5e4e0>"
      ]
     },
     "metadata": {},
     "output_type": "display_data"
    },
    {
     "name": "stdout",
     "output_type": "stream",
     "text": [
      "continue? or end? = \n",
      "\n",
      "Random data set 6238\n",
      "Test set label   = [0 0 0 0 0 0 0 0 1 0]\n",
      "pred probability = [[ 0  0  0  0  0  1  0  0 97  0]]\n",
      "pred number      = 8\n"
     ]
    },
    {
     "data": {
      "image/png": "[encoded data removed]",
      "text/plain": [
       "<matplotlib.figure.Figure at 0x7faa09c0e550>"
      ]
     },
     "metadata": {},
     "output_type": "display_data"
    },
    {
     "name": "stdout",
     "output_type": "stream",
     "text": [
      "continue? or end? = \n",
      "\n",
      "Random data set 377\n",
      "Test set label   = [0 1 0 0 0 0 0 0 0 0]\n",
      "pred probability = [[ 0 99  0  0  0  0  0  0  0  0]]\n",
      "pred number      = 1\n"
     ]
    },
    {
     "data": {
      "image/png": "[encoded data removed]",
      "text/plain": [
       "<matplotlib.figure.Figure at 0x7faa09bcd4e0>"
      ]
     },
     "metadata": {},
     "output_type": "display_data"
    },
    {
     "name": "stdout",
     "output_type": "stream",
     "text": [
      "continue? or end? = \n",
      "\n",
      "Random data set 3577\n",
      "Test set label   = [0 0 1 0 0 0 0 0 0 0]\n",
      "pred probability = [[ 3  3 79  0  0 13  0  0  0  0]]\n",
      "pred number      = 2\n"
     ]
    },
    {
     "data": {
      "image/png": "[encoded data removed]",
      "text/plain": [
       "<matplotlib.figure.Figure at 0x7faa09a50240>"
      ]
     },
     "metadata": {},
     "output_type": "display_data"
    },
    {
     "name": "stdout",
     "output_type": "stream",
     "text": [
      "continue? or end? = \n",
      "\n",
      "Random data set 3772\n",
      "Test set label   = [0 0 1 0 0 0 0 0 0 0]\n",
      "pred probability = [[ 0  0 89  0  0  0  0  8  0  0]]\n",
      "pred number      = 2\n"
     ]
    },
    {
     "data": {
      "image/png": "[encoded data removed]",
      "text/plain": [
       "<matplotlib.figure.Figure at 0x7faa099ef5c0>"
      ]
     },
     "metadata": {},
     "output_type": "display_data"
    },
    {
     "name": "stdout",
     "output_type": "stream",
     "text": [
      "continue? or end? = \n",
      "\n",
      "Random data set 2547\n",
      "Test set label   = [0 0 0 0 0 0 0 1 0 0]\n",
      "pred probability = [[ 0  0  0  0  0  0  0 98  0  0]]\n",
      "pred number      = 7\n"
     ]
    },
    {
     "data": {
      "image/png": "[encoded data removed]",
      "text/plain": [
       "<matplotlib.figure.Figure at 0x7faa0990b198>"
      ]
     },
     "metadata": {},
     "output_type": "display_data"
    },
    {
     "name": "stdout",
     "output_type": "stream",
     "text": [
      "continue? or end? = end\n"
     ]
    }
   ],
   "source": [
    "test = 'go'\n",
    "while test != 'end':\n",
    "    temp_idx=np.random.randint(1,m_test)\n",
    "    print('\\nRandom data set '+str(temp_idx))\n",
    "    print('Test set label   = '+str(np.int_(Y_test[temp_idx])))\n",
    "    y_pre = sess.run(y_deep,feed_dict={x: X_test[temp_idx,:,:].reshape([1,input_size_1,input_size_2])})\n",
    "    a_out = sess.run(model_a,feed_dict={x: X_test[temp_idx,:,:].reshape([1,input_size_1,input_size_2])})\n",
    "    a_out = np.reshape(a_out, [window_step[0]*window_step[1], window_size, window_size])\n",
    "    s1_out = sess.run(attention_s1,feed_dict={x: X_test[temp_idx,:,:].reshape([1,input_size_1,input_size_2])})\n",
    "    s2_out = sess.run(attention_s2,feed_dict={x: X_test[temp_idx,:,:].reshape([1,input_size_1,input_size_2])})\n",
    "    s3_out = sess.run(attention_s3,feed_dict={x: X_test[temp_idx,:,:].reshape([1,input_size_1,input_size_2])})\n",
    "    s4_out = sess.run(attention_s4,feed_dict={x: X_test[temp_idx,:,:].reshape([1,input_size_1,input_size_2])})\n",
    "    s1_image = np.reshape(s1_out,[window_step[0], window_step[1]])\n",
    "    s2_image = np.reshape(s2_out,[window_step[0], window_step[1]])\n",
    "    s3_image = np.reshape(s3_out,[window_step[0], window_step[1]])\n",
    "    s4_image = np.reshape(s4_out,[window_step[0], window_step[1]])\n",
    "    \n",
    "    heat_map = np.zeros([input_size_1,input_size_1])\n",
    "    for i in range(window_step[0]):\n",
    "        for j in range(window_step[1]):\n",
    "            heat_map[window_move*i:(window_move*i+window_size),window_move*j:(window_move*j+window_size)] = \\\n",
    "                heat_map[window_move*i:(window_move*i+window_size),window_move*j:(window_move*j+window_size)] + \\\n",
    "                np.ones([window_size,window_size])*s3_image[i,j] + np.ones([window_size,window_size])*s4_image[i,j] + \\\n",
    "                np.ones([window_size,window_size])*s1_image[i,j] + np.ones([window_size,window_size])*s2_image[i,j]\n",
    "    heat_map = heat_map/np.max(heat_map)\n",
    "\n",
    "    print('pred probability = '+str(np.int_(y_pre*100)))\n",
    "    print('pred number      = '+str(np.argmax(y_pre[0,:])))\n",
    "    \n",
    "    f1, axarr1 = plt.subplots(1,2)\n",
    "    axarr1[0].imshow(heat_map, cmap='gray')\n",
    "    axarr1[0].axis(\"off\")\n",
    "    axarr1[1].imshow(X_test[temp_idx,:,:], cmap='gray')\n",
    "    axarr1[1].axis(\"off\")\n",
    "    \n",
    "    plt.show() \n",
    "    \n",
    "    test = input('continue? or end? = ')\n",
    "    \n"
   ]
  },
  {
   "cell_type": "code",
   "execution_count": null,
   "metadata": {
    "collapsed": true
   },
   "outputs": [],
   "source": []
  },
  {
   "cell_type": "code",
   "execution_count": null,
   "metadata": {
    "collapsed": true
   },
   "outputs": [],
   "source": []
  }
 ],
 "metadata": {
  "kernelspec": {
   "display_name": "Python 3",
   "language": "python",
   "name": "python3"
  },
  "language_info": {
   "codemirror_mode": {
    "name": "ipython",
    "version": 3
   },
   "file_extension": ".py",
   "mimetype": "text/x-python",
   "name": "python",
   "nbconvert_exporter": "python",
   "pygments_lexer": "ipython3",
   "version": "3.6.3"
  }
 },
 "nbformat": 4,
 "nbformat_minor": 2
}
